{
 "cells": [
  {
   "cell_type": "markdown",
   "metadata": {},
   "source": [
    "[link to dataset](https://www.kaggle.com/datasets/seriousran/appletwittersentimenttexts)"
   ]
  },
  {
   "cell_type": "code",
   "execution_count": 8,
   "metadata": {},
   "outputs": [
    {
     "name": "stdout",
     "output_type": "stream",
     "text": [
      "utf-8 not successful\n",
      "latin-1 worked!\n"
     ]
    }
   ],
   "source": [
    "import pandas as pd\n",
    "\n",
    "# List of encodings to try\n",
    "encodings = ['utf-8', 'latin-1', 'utf-16']\n",
    "\n",
    "# Try different encodings until successful\n",
    "for encoding in encodings:\n",
    "    try:\n",
    "        tweet_df_appl = pd.read_csv('./data/Apple-Twitter-Sentiment-DFE.csv', encoding=encoding)\n",
    "        #-1: negative, 0: neutral, 1: positive\n",
    "        print(f'{encoding} worked!')\n",
    "        break  # Exit the loop if reading is successful\n",
    "    except UnicodeDecodeError:\n",
    "        print(f'{encoding} not successful')\n",
    "        continue  # Continue to the next encoding if decoding error occurs"
   ]
  },
  {
   "cell_type": "code",
   "execution_count": 2,
   "metadata": {},
   "outputs": [
    {
     "data": {
      "text/html": [
       "<div>\n",
       "<style scoped>\n",
       "    .dataframe tbody tr th:only-of-type {\n",
       "        vertical-align: middle;\n",
       "    }\n",
       "\n",
       "    .dataframe tbody tr th {\n",
       "        vertical-align: top;\n",
       "    }\n",
       "\n",
       "    .dataframe thead th {\n",
       "        text-align: right;\n",
       "    }\n",
       "</style>\n",
       "<table border=\"1\" class=\"dataframe\">\n",
       "  <thead>\n",
       "    <tr style=\"text-align: right;\">\n",
       "      <th></th>\n",
       "      <th>_unit_id</th>\n",
       "      <th>_golden</th>\n",
       "      <th>_unit_state</th>\n",
       "      <th>_trusted_judgments</th>\n",
       "      <th>_last_judgment_at</th>\n",
       "      <th>sentiment</th>\n",
       "      <th>sentiment:confidence</th>\n",
       "      <th>date</th>\n",
       "      <th>id</th>\n",
       "      <th>query</th>\n",
       "      <th>sentiment_gold</th>\n",
       "      <th>text</th>\n",
       "    </tr>\n",
       "  </thead>\n",
       "  <tbody>\n",
       "    <tr>\n",
       "      <th>0</th>\n",
       "      <td>623495513</td>\n",
       "      <td>True</td>\n",
       "      <td>golden</td>\n",
       "      <td>10</td>\n",
       "      <td>NaN</td>\n",
       "      <td>3</td>\n",
       "      <td>0.6264</td>\n",
       "      <td>Mon Dec 01 19:30:03 +0000 2014</td>\n",
       "      <td>5.400000e+17</td>\n",
       "      <td>#AAPL OR @Apple</td>\n",
       "      <td>3\\nnot_relevant</td>\n",
       "      <td>#AAPL:The 10 best Steve Jobs emails ever...htt...</td>\n",
       "    </tr>\n",
       "    <tr>\n",
       "      <th>1</th>\n",
       "      <td>623495514</td>\n",
       "      <td>True</td>\n",
       "      <td>golden</td>\n",
       "      <td>12</td>\n",
       "      <td>NaN</td>\n",
       "      <td>3</td>\n",
       "      <td>0.8129</td>\n",
       "      <td>Mon Dec 01 19:43:51 +0000 2014</td>\n",
       "      <td>5.400000e+17</td>\n",
       "      <td>#AAPL OR @Apple</td>\n",
       "      <td>3\\n1</td>\n",
       "      <td>RT @JPDesloges: Why AAPL Stock Had a Mini-Flas...</td>\n",
       "    </tr>\n",
       "    <tr>\n",
       "      <th>2</th>\n",
       "      <td>623495515</td>\n",
       "      <td>True</td>\n",
       "      <td>golden</td>\n",
       "      <td>10</td>\n",
       "      <td>NaN</td>\n",
       "      <td>3</td>\n",
       "      <td>1.0000</td>\n",
       "      <td>Mon Dec 01 19:50:28 +0000 2014</td>\n",
       "      <td>5.400000e+17</td>\n",
       "      <td>#AAPL OR @Apple</td>\n",
       "      <td>3</td>\n",
       "      <td>My cat only chews @apple cords. Such an #Apple...</td>\n",
       "    </tr>\n",
       "    <tr>\n",
       "      <th>3</th>\n",
       "      <td>623495516</td>\n",
       "      <td>True</td>\n",
       "      <td>golden</td>\n",
       "      <td>17</td>\n",
       "      <td>NaN</td>\n",
       "      <td>3</td>\n",
       "      <td>0.5848</td>\n",
       "      <td>Mon Dec 01 20:26:34 +0000 2014</td>\n",
       "      <td>5.400000e+17</td>\n",
       "      <td>#AAPL OR @Apple</td>\n",
       "      <td>3\\n1</td>\n",
       "      <td>I agree with @jimcramer that the #IndividualIn...</td>\n",
       "    </tr>\n",
       "    <tr>\n",
       "      <th>4</th>\n",
       "      <td>623495517</td>\n",
       "      <td>False</td>\n",
       "      <td>finalized</td>\n",
       "      <td>3</td>\n",
       "      <td>12/12/14 12:14</td>\n",
       "      <td>3</td>\n",
       "      <td>0.6474</td>\n",
       "      <td>Mon Dec 01 20:29:33 +0000 2014</td>\n",
       "      <td>5.400000e+17</td>\n",
       "      <td>#AAPL OR @Apple</td>\n",
       "      <td>NaN</td>\n",
       "      <td>Nobody expects the Spanish Inquisition #AAPL</td>\n",
       "    </tr>\n",
       "  </tbody>\n",
       "</table>\n",
       "</div>"
      ],
      "text/plain": [
       "    _unit_id  _golden _unit_state  _trusted_judgments _last_judgment_at  \\\n",
       "0  623495513     True      golden                  10               NaN   \n",
       "1  623495514     True      golden                  12               NaN   \n",
       "2  623495515     True      golden                  10               NaN   \n",
       "3  623495516     True      golden                  17               NaN   \n",
       "4  623495517    False   finalized                   3    12/12/14 12:14   \n",
       "\n",
       "  sentiment  sentiment:confidence                            date  \\\n",
       "0         3                0.6264  Mon Dec 01 19:30:03 +0000 2014   \n",
       "1         3                0.8129  Mon Dec 01 19:43:51 +0000 2014   \n",
       "2         3                1.0000  Mon Dec 01 19:50:28 +0000 2014   \n",
       "3         3                0.5848  Mon Dec 01 20:26:34 +0000 2014   \n",
       "4         3                0.6474  Mon Dec 01 20:29:33 +0000 2014   \n",
       "\n",
       "             id            query   sentiment_gold  \\\n",
       "0  5.400000e+17  #AAPL OR @Apple  3\\nnot_relevant   \n",
       "1  5.400000e+17  #AAPL OR @Apple             3\\n1   \n",
       "2  5.400000e+17  #AAPL OR @Apple                3   \n",
       "3  5.400000e+17  #AAPL OR @Apple             3\\n1   \n",
       "4  5.400000e+17  #AAPL OR @Apple              NaN   \n",
       "\n",
       "                                                text  \n",
       "0  #AAPL:The 10 best Steve Jobs emails ever...htt...  \n",
       "1  RT @JPDesloges: Why AAPL Stock Had a Mini-Flas...  \n",
       "2  My cat only chews @apple cords. Such an #Apple...  \n",
       "3  I agree with @jimcramer that the #IndividualIn...  \n",
       "4       Nobody expects the Spanish Inquisition #AAPL  "
      ]
     },
     "execution_count": 2,
     "metadata": {},
     "output_type": "execute_result"
    }
   ],
   "source": [
    "tweet_df_appl.head()"
   ]
  },
  {
   "cell_type": "code",
   "execution_count": 3,
   "metadata": {},
   "outputs": [],
   "source": [
    "# Set the display options to show the full string content\n",
    "pd.set_option('display.max_colwidth', None)"
   ]
  },
  {
   "cell_type": "code",
   "execution_count": 6,
   "metadata": {},
   "outputs": [],
   "source": [
    "tweet_df_appl = tweet_df_appl[['sentiment', 'text']]"
   ]
  },
  {
   "cell_type": "code",
   "execution_count": 7,
   "metadata": {},
   "outputs": [
    {
     "data": {
      "text/plain": [
       "3               2162\n",
       "1               1219\n",
       "5                423\n",
       "not_relevant      82\n",
       "Name: sentiment, dtype: int64"
      ]
     },
     "execution_count": 7,
     "metadata": {},
     "output_type": "execute_result"
    }
   ],
   "source": [
    "tweet_df_appl['sentiment'].value_counts()"
   ]
  },
  {
   "cell_type": "code",
   "execution_count": null,
   "metadata": {},
   "outputs": [],
   "source": [
    "tweet_df_appl['senti_label'] = tweet_df_appl['sentiment'].apply(lambda x: 'positive' if x==5\\\n",
    "                                                               e)"
   ]
  },
  {
   "cell_type": "code",
   "execution_count": 101,
   "metadata": {},
   "outputs": [
    {
     "data": {
      "image/png": "[encoded data removed]",
      "text/plain": [
       "<Figure size 720x432 with 1 Axes>"
      ]
     },
     "metadata": {},
     "output_type": "display_data"
    }
   ],
   "source": [
    "from matplotlib.ticker import MaxNLocator\n",
    "plot_distribution(tweet_df_appl, 'sentiment')\n",
    "\n",
    "plt.show()"
   ]
  },
  {
   "cell_type": "code",
   "execution_count": 2,
   "metadata": {},
   "outputs": [
    {
     "name": "stdout",
     "output_type": "stream",
     "text": [
      "utf-8 not successful\n",
      "latin-1 worked!\n"
     ]
    }
   ],
   "source": [
    "import pandas as pd\n",
    "\n",
    "# List of encodings to try\n",
    "encodings = ['utf-8', 'latin-1', 'utf-16']\n",
    "\n",
    "# Try different encodings until successful\n",
    "for encoding in encodings:\n",
    "    try:\n",
    "        deflate = pd.read_csv('./data/Deflategate-DFE.csv', encoding=encoding)\n",
    "        print(f'{encoding} worked!')\n",
    "        break  # Exit the loop if reading is successful\n",
    "    except UnicodeDecodeError:\n",
    "        print(f'{encoding} not successful')\n",
    "        continue  # Continue to the next encoding if decoding error occurs"
   ]
  },
  {
   "cell_type": "code",
   "execution_count": 3,
   "metadata": {},
   "outputs": [
    {
     "data": {
      "text/html": [
       "<div>\n",
       "<style scoped>\n",
       "    .dataframe tbody tr th:only-of-type {\n",
       "        vertical-align: middle;\n",
       "    }\n",
       "\n",
       "    .dataframe tbody tr th {\n",
       "        vertical-align: top;\n",
       "    }\n",
       "\n",
       "    .dataframe thead th {\n",
       "        text-align: right;\n",
       "    }\n",
       "</style>\n",
       "<table border=\"1\" class=\"dataframe\">\n",
       "  <thead>\n",
       "    <tr style=\"text-align: right;\">\n",
       "      <th></th>\n",
       "      <th>_unit_id</th>\n",
       "      <th>_golden</th>\n",
       "      <th>_unit_state</th>\n",
       "      <th>_trusted_judgments</th>\n",
       "      <th>_last_judgment_at</th>\n",
       "      <th>deflate_sentiment</th>\n",
       "      <th>deflate_sentiment:confidence</th>\n",
       "      <th>deflategate_yn</th>\n",
       "      <th>deflategate_yn:confidence</th>\n",
       "      <th>deflate_sentiment_gold</th>\n",
       "      <th>deflategate_yn_gold</th>\n",
       "      <th>name</th>\n",
       "      <th>retweet_count</th>\n",
       "      <th>text</th>\n",
       "      <th>tweet_coord</th>\n",
       "      <th>tweet_date</th>\n",
       "      <th>tweet_id</th>\n",
       "      <th>tweet_location</th>\n",
       "      <th>user_timezone</th>\n",
       "    </tr>\n",
       "  </thead>\n",
       "  <tbody>\n",
       "    <tr>\n",
       "      <th>0</th>\n",
       "      <td>663596213</td>\n",
       "      <td>False</td>\n",
       "      <td>finalized</td>\n",
       "      <td>3</td>\n",
       "      <td>1/31/15 17:19</td>\n",
       "      <td>slightly positive</td>\n",
       "      <td>1.0000</td>\n",
       "      <td>yes</td>\n",
       "      <td>1.0000</td>\n",
       "      <td>NaN</td>\n",
       "      <td>NaN</td>\n",
       "      <td>EcoWarrior1980</td>\n",
       "      <td>5</td>\n",
       "      <td>RT @DeSmogBlog: Bill Nye @TheScienceGuy: Screw...</td>\n",
       "      <td>NaN</td>\n",
       "      <td>1/29/15</td>\n",
       "      <td>5.609320e+17</td>\n",
       "      <td>Portland, OR</td>\n",
       "      <td>NaN</td>\n",
       "    </tr>\n",
       "    <tr>\n",
       "      <th>1</th>\n",
       "      <td>663596214</td>\n",
       "      <td>False</td>\n",
       "      <td>finalized</td>\n",
       "      <td>3</td>\n",
       "      <td>2/1/15 7:27</td>\n",
       "      <td>negative</td>\n",
       "      <td>1.0000</td>\n",
       "      <td>yes</td>\n",
       "      <td>1.0000</td>\n",
       "      <td>NaN</td>\n",
       "      <td>NaN</td>\n",
       "      <td>iTalkShitToo</td>\n",
       "      <td>6</td>\n",
       "      <td>RT @CBSPittsburgh: Former Belichick Scout: Û÷...</td>\n",
       "      <td>NaN</td>\n",
       "      <td>1/29/15</td>\n",
       "      <td>5.609320e+17</td>\n",
       "      <td>NaN</td>\n",
       "      <td>NaN</td>\n",
       "    </tr>\n",
       "    <tr>\n",
       "      <th>2</th>\n",
       "      <td>663596215</td>\n",
       "      <td>False</td>\n",
       "      <td>finalized</td>\n",
       "      <td>3</td>\n",
       "      <td>1/31/15 22:18</td>\n",
       "      <td>negative</td>\n",
       "      <td>0.6667</td>\n",
       "      <td>yes</td>\n",
       "      <td>1.0000</td>\n",
       "      <td>NaN</td>\n",
       "      <td>NaN</td>\n",
       "      <td>JSmoove_22</td>\n",
       "      <td>3</td>\n",
       "      <td>RT @OkeraJ: #DeflateGate and the media being u...</td>\n",
       "      <td>NaN</td>\n",
       "      <td>1/29/15</td>\n",
       "      <td>5.609320e+17</td>\n",
       "      <td>NaN</td>\n",
       "      <td>NaN</td>\n",
       "    </tr>\n",
       "    <tr>\n",
       "      <th>3</th>\n",
       "      <td>663596216</td>\n",
       "      <td>False</td>\n",
       "      <td>finalized</td>\n",
       "      <td>3</td>\n",
       "      <td>1/31/15 20:07</td>\n",
       "      <td>slightly positive</td>\n",
       "      <td>1.0000</td>\n",
       "      <td>yes</td>\n",
       "      <td>1.0000</td>\n",
       "      <td>NaN</td>\n",
       "      <td>NaN</td>\n",
       "      <td>Football4Misha</td>\n",
       "      <td>2</td>\n",
       "      <td>RT @DigitalTrove: Why are we still talking abo...</td>\n",
       "      <td>NaN</td>\n",
       "      <td>1/29/15</td>\n",
       "      <td>5.609320e+17</td>\n",
       "      <td>NaN</td>\n",
       "      <td>Central Time (US &amp; Canada)</td>\n",
       "    </tr>\n",
       "    <tr>\n",
       "      <th>4</th>\n",
       "      <td>663596218</td>\n",
       "      <td>False</td>\n",
       "      <td>finalized</td>\n",
       "      <td>3</td>\n",
       "      <td>1/31/15 13:19</td>\n",
       "      <td>negative</td>\n",
       "      <td>0.6924</td>\n",
       "      <td>yes</td>\n",
       "      <td>0.6924</td>\n",
       "      <td>NaN</td>\n",
       "      <td>NaN</td>\n",
       "      <td>joseantonio2293</td>\n",
       "      <td>45</td>\n",
       "      <td>RT @WWE: #WWE's @LanaWWE @mikethemiz and @JCLa...</td>\n",
       "      <td>NaN</td>\n",
       "      <td>1/29/15</td>\n",
       "      <td>5.609320e+17</td>\n",
       "      <td>NaN</td>\n",
       "      <td>Eastern Time (US &amp; Canada)</td>\n",
       "    </tr>\n",
       "  </tbody>\n",
       "</table>\n",
       "</div>"
      ],
      "text/plain": [
       "    _unit_id  _golden _unit_state  _trusted_judgments _last_judgment_at  \\\n",
       "0  663596213    False   finalized                   3     1/31/15 17:19   \n",
       "1  663596214    False   finalized                   3       2/1/15 7:27   \n",
       "2  663596215    False   finalized                   3     1/31/15 22:18   \n",
       "3  663596216    False   finalized                   3     1/31/15 20:07   \n",
       "4  663596218    False   finalized                   3     1/31/15 13:19   \n",
       "\n",
       "   deflate_sentiment  deflate_sentiment:confidence deflategate_yn  \\\n",
       "0  slightly positive                        1.0000            yes   \n",
       "1           negative                        1.0000            yes   \n",
       "2           negative                        0.6667            yes   \n",
       "3  slightly positive                        1.0000            yes   \n",
       "4           negative                        0.6924            yes   \n",
       "\n",
       "   deflategate_yn:confidence deflate_sentiment_gold deflategate_yn_gold  \\\n",
       "0                     1.0000                    NaN                 NaN   \n",
       "1                     1.0000                    NaN                 NaN   \n",
       "2                     1.0000                    NaN                 NaN   \n",
       "3                     1.0000                    NaN                 NaN   \n",
       "4                     0.6924                    NaN                 NaN   \n",
       "\n",
       "              name  retweet_count  \\\n",
       "0   EcoWarrior1980              5   \n",
       "1     iTalkShitToo              6   \n",
       "2       JSmoove_22              3   \n",
       "3   Football4Misha              2   \n",
       "4  joseantonio2293             45   \n",
       "\n",
       "                                                text tweet_coord tweet_date  \\\n",
       "0  RT @DeSmogBlog: Bill Nye @TheScienceGuy: Screw...         NaN    1/29/15   \n",
       "1  RT @CBSPittsburgh: Former Belichick Scout: Û÷...         NaN    1/29/15   \n",
       "2  RT @OkeraJ: #DeflateGate and the media being u...         NaN    1/29/15   \n",
       "3  RT @DigitalTrove: Why are we still talking abo...         NaN    1/29/15   \n",
       "4  RT @WWE: #WWE's @LanaWWE @mikethemiz and @JCLa...         NaN    1/29/15   \n",
       "\n",
       "       tweet_id tweet_location               user_timezone  \n",
       "0  5.609320e+17   Portland, OR                         NaN  \n",
       "1  5.609320e+17            NaN                         NaN  \n",
       "2  5.609320e+17            NaN                         NaN  \n",
       "3  5.609320e+17            NaN  Central Time (US & Canada)  \n",
       "4  5.609320e+17            NaN  Eastern Time (US & Canada)  "
      ]
     },
     "execution_count": 3,
     "metadata": {},
     "output_type": "execute_result"
    }
   ],
   "source": [
    "deflate.head()"
   ]
  },
  {
   "cell_type": "code",
   "execution_count": 4,
   "metadata": {},
   "outputs": [],
   "source": [
    "deflate = deflate[['deflate_sentiment','text']]"
   ]
  },
  {
   "cell_type": "code",
   "execution_count": 5,
   "metadata": {},
   "outputs": [
    {
     "data": {
      "text/html": [
       "<div>\n",
       "<style scoped>\n",
       "    .dataframe tbody tr th:only-of-type {\n",
       "        vertical-align: middle;\n",
       "    }\n",
       "\n",
       "    .dataframe tbody tr th {\n",
       "        vertical-align: top;\n",
       "    }\n",
       "\n",
       "    .dataframe thead th {\n",
       "        text-align: right;\n",
       "    }\n",
       "</style>\n",
       "<table border=\"1\" class=\"dataframe\">\n",
       "  <thead>\n",
       "    <tr style=\"text-align: right;\">\n",
       "      <th></th>\n",
       "      <th>deflate_sentiment</th>\n",
       "      <th>text</th>\n",
       "    </tr>\n",
       "  </thead>\n",
       "  <tbody>\n",
       "    <tr>\n",
       "      <th>0</th>\n",
       "      <td>slightly positive</td>\n",
       "      <td>RT @DeSmogBlog: Bill Nye @TheScienceGuy: Screw...</td>\n",
       "    </tr>\n",
       "    <tr>\n",
       "      <th>1</th>\n",
       "      <td>negative</td>\n",
       "      <td>RT @CBSPittsburgh: Former Belichick Scout: Û÷...</td>\n",
       "    </tr>\n",
       "    <tr>\n",
       "      <th>2</th>\n",
       "      <td>negative</td>\n",
       "      <td>RT @OkeraJ: #DeflateGate and the media being u...</td>\n",
       "    </tr>\n",
       "    <tr>\n",
       "      <th>3</th>\n",
       "      <td>slightly positive</td>\n",
       "      <td>RT @DigitalTrove: Why are we still talking abo...</td>\n",
       "    </tr>\n",
       "    <tr>\n",
       "      <th>4</th>\n",
       "      <td>negative</td>\n",
       "      <td>RT @WWE: #WWE's @LanaWWE @mikethemiz and @JCLa...</td>\n",
       "    </tr>\n",
       "  </tbody>\n",
       "</table>\n",
       "</div>"
      ],
      "text/plain": [
       "   deflate_sentiment                                               text\n",
       "0  slightly positive  RT @DeSmogBlog: Bill Nye @TheScienceGuy: Screw...\n",
       "1           negative  RT @CBSPittsburgh: Former Belichick Scout: Û÷...\n",
       "2           negative  RT @OkeraJ: #DeflateGate and the media being u...\n",
       "3  slightly positive  RT @DigitalTrove: Why are we still talking abo...\n",
       "4           negative  RT @WWE: #WWE's @LanaWWE @mikethemiz and @JCLa..."
      ]
     },
     "execution_count": 5,
     "metadata": {},
     "output_type": "execute_result"
    }
   ],
   "source": [
    "deflate.head()"
   ]
  },
  {
   "cell_type": "code",
   "execution_count": 6,
   "metadata": {},
   "outputs": [],
   "source": [
    "deflate.columns = ['sentiment','tweet']"
   ]
  },
  {
   "cell_type": "code",
   "execution_count": 7,
   "metadata": {},
   "outputs": [
    {
     "data": {
      "text/html": [
       "<div>\n",
       "<style scoped>\n",
       "    .dataframe tbody tr th:only-of-type {\n",
       "        vertical-align: middle;\n",
       "    }\n",
       "\n",
       "    .dataframe tbody tr th {\n",
       "        vertical-align: top;\n",
       "    }\n",
       "\n",
       "    .dataframe thead th {\n",
       "        text-align: right;\n",
       "    }\n",
       "</style>\n",
       "<table border=\"1\" class=\"dataframe\">\n",
       "  <thead>\n",
       "    <tr style=\"text-align: right;\">\n",
       "      <th></th>\n",
       "      <th>sentiment</th>\n",
       "      <th>tweet</th>\n",
       "    </tr>\n",
       "  </thead>\n",
       "  <tbody>\n",
       "    <tr>\n",
       "      <th>0</th>\n",
       "      <td>slightly positive</td>\n",
       "      <td>RT @DeSmogBlog: Bill Nye @TheScienceGuy: Screw...</td>\n",
       "    </tr>\n",
       "    <tr>\n",
       "      <th>1</th>\n",
       "      <td>negative</td>\n",
       "      <td>RT @CBSPittsburgh: Former Belichick Scout: Û÷...</td>\n",
       "    </tr>\n",
       "    <tr>\n",
       "      <th>2</th>\n",
       "      <td>negative</td>\n",
       "      <td>RT @OkeraJ: #DeflateGate and the media being u...</td>\n",
       "    </tr>\n",
       "    <tr>\n",
       "      <th>3</th>\n",
       "      <td>slightly positive</td>\n",
       "      <td>RT @DigitalTrove: Why are we still talking abo...</td>\n",
       "    </tr>\n",
       "    <tr>\n",
       "      <th>4</th>\n",
       "      <td>negative</td>\n",
       "      <td>RT @WWE: #WWE's @LanaWWE @mikethemiz and @JCLa...</td>\n",
       "    </tr>\n",
       "  </tbody>\n",
       "</table>\n",
       "</div>"
      ],
      "text/plain": [
       "           sentiment                                              tweet\n",
       "0  slightly positive  RT @DeSmogBlog: Bill Nye @TheScienceGuy: Screw...\n",
       "1           negative  RT @CBSPittsburgh: Former Belichick Scout: Û÷...\n",
       "2           negative  RT @OkeraJ: #DeflateGate and the media being u...\n",
       "3  slightly positive  RT @DigitalTrove: Why are we still talking abo...\n",
       "4           negative  RT @WWE: #WWE's @LanaWWE @mikethemiz and @JCLa..."
      ]
     },
     "execution_count": 7,
     "metadata": {},
     "output_type": "execute_result"
    }
   ],
   "source": [
    "deflate.head()"
   ]
  },
  {
   "cell_type": "code",
   "execution_count": 8,
   "metadata": {},
   "outputs": [
    {
     "data": {
      "text/plain": [
       "negative             5039\n",
       "neutral              3165\n",
       "slightly positive    1610\n",
       "positive             1236\n",
       "slighly negative      736\n",
       "Name: sentiment, dtype: int64"
      ]
     },
     "execution_count": 8,
     "metadata": {},
     "output_type": "execute_result"
    }
   ],
   "source": [
    "deflate['sentiment'].value_counts()"
   ]
  },
  {
   "cell_type": "code",
   "execution_count": 11,
   "metadata": {},
   "outputs": [],
   "source": [
    "deflate['Product'] = deflate['tweet'].str.lower().apply(lambda x: 'Apple' if 'ipad' in x\\\n",
    "                                                          or 'apple' in x or 'iphone' in x\\\n",
    "                                                          or 'itunes' in x or 'mac' in x\\\n",
    "                                                          or 'macbook' in x\\\n",
    "                                                          else 'Google' if 'google' in x\\\n",
    "                                                          else 'Android' if 'android' in x\\\n",
    "                                                          else 'Unknown')"
   ]
  },
  {
   "cell_type": "code",
   "execution_count": 12,
   "metadata": {
    "scrolled": true
   },
   "outputs": [
    {
     "data": {
      "text/plain": [
       "Unknown    11720\n",
       "Apple         87\n",
       "Google         5\n",
       "Android        2\n",
       "Name: Product, dtype: int64"
      ]
     },
     "execution_count": 12,
     "metadata": {},
     "output_type": "execute_result"
    }
   ],
   "source": [
    "deflate['Product'].value_counts()"
   ]
  },
  {
   "cell_type": "code",
   "execution_count": 14,
   "metadata": {},
   "outputs": [
    {
     "name": "stdout",
     "output_type": "stream",
     "text": [
      "utf-8 not successful\n",
      "latin-1 worked!\n"
     ]
    }
   ],
   "source": [
    "# List of encodings to try\n",
    "encodings = ['utf-8', 'latin-1', 'utf-16']\n",
    "\n",
    "# Try different encodings until successful\n",
    "for encoding in encodings:\n",
    "    try:\n",
    "        coachella = pd.read_csv('./data/Coachella-2015-2-DFE.csv', encoding=encoding)\n",
    "        print(f'{encoding} worked!')\n",
    "        break  # Exit the loop if reading is successful\n",
    "    except UnicodeDecodeError:\n",
    "        print(f'{encoding} not successful')\n",
    "        continue  # Continue to the next encoding if decoding error occurs"
   ]
  },
  {
   "cell_type": "code",
   "execution_count": 15,
   "metadata": {},
   "outputs": [
    {
     "data": {
      "text/html": [
       "<div>\n",
       "<style scoped>\n",
       "    .dataframe tbody tr th:only-of-type {\n",
       "        vertical-align: middle;\n",
       "    }\n",
       "\n",
       "    .dataframe tbody tr th {\n",
       "        vertical-align: top;\n",
       "    }\n",
       "\n",
       "    .dataframe thead th {\n",
       "        text-align: right;\n",
       "    }\n",
       "</style>\n",
       "<table border=\"1\" class=\"dataframe\">\n",
       "  <thead>\n",
       "    <tr style=\"text-align: right;\">\n",
       "      <th></th>\n",
       "      <th>coachella_sentiment</th>\n",
       "      <th>coachella_yn</th>\n",
       "      <th>name</th>\n",
       "      <th>retweet_count</th>\n",
       "      <th>text</th>\n",
       "      <th>tweet_coord</th>\n",
       "      <th>tweet_created</th>\n",
       "      <th>tweet_id</th>\n",
       "      <th>tweet_location</th>\n",
       "      <th>user_timezone</th>\n",
       "    </tr>\n",
       "  </thead>\n",
       "  <tbody>\n",
       "    <tr>\n",
       "      <th>0</th>\n",
       "      <td>positive</td>\n",
       "      <td>yes</td>\n",
       "      <td>kokombil</td>\n",
       "      <td>0</td>\n",
       "      <td>#Coachella2015 tickets selling out in less tha...</td>\n",
       "      <td>[0.0, 0.0]</td>\n",
       "      <td>1/7/15 15:02</td>\n",
       "      <td>5.529630e+17</td>\n",
       "      <td>NaN</td>\n",
       "      <td>Quito</td>\n",
       "    </tr>\n",
       "    <tr>\n",
       "      <th>1</th>\n",
       "      <td>positive</td>\n",
       "      <td>yes</td>\n",
       "      <td>MisssTaraaa10</td>\n",
       "      <td>2</td>\n",
       "      <td>RT @sudsybuddy: WAIT THIS IS ABSOLUTE FIRE _ÙÓ...</td>\n",
       "      <td>NaN</td>\n",
       "      <td>1/7/15 15:02</td>\n",
       "      <td>5.529630e+17</td>\n",
       "      <td>united states</td>\n",
       "      <td>NaN</td>\n",
       "    </tr>\n",
       "    <tr>\n",
       "      <th>2</th>\n",
       "      <td>positive</td>\n",
       "      <td>yes</td>\n",
       "      <td>NMcCracken805</td>\n",
       "      <td>0</td>\n",
       "      <td>#Coachella2015 #VIP passes secured! See you th...</td>\n",
       "      <td>NaN</td>\n",
       "      <td>1/7/15 15:01</td>\n",
       "      <td>5.529630e+17</td>\n",
       "      <td>Costa Mesa, CA</td>\n",
       "      <td>NaN</td>\n",
       "    </tr>\n",
       "    <tr>\n",
       "      <th>3</th>\n",
       "      <td>positive</td>\n",
       "      <td>yes</td>\n",
       "      <td>wxpnfm</td>\n",
       "      <td>1</td>\n",
       "      <td>PhillyÛªs @warondrugsjams will play #Coachell...</td>\n",
       "      <td>NaN</td>\n",
       "      <td>1/7/15 15:01</td>\n",
       "      <td>5.529630e+17</td>\n",
       "      <td>Philadelphia, PA and Worldwide</td>\n",
       "      <td>Quito</td>\n",
       "    </tr>\n",
       "    <tr>\n",
       "      <th>4</th>\n",
       "      <td>positive</td>\n",
       "      <td>yes</td>\n",
       "      <td>Caesears</td>\n",
       "      <td>0</td>\n",
       "      <td>If briana and her mom out to #Coachella2015  i...</td>\n",
       "      <td>NaN</td>\n",
       "      <td>1/7/15 15:00</td>\n",
       "      <td>5.529630e+17</td>\n",
       "      <td>NaN</td>\n",
       "      <td>NaN</td>\n",
       "    </tr>\n",
       "  </tbody>\n",
       "</table>\n",
       "</div>"
      ],
      "text/plain": [
       "  coachella_sentiment coachella_yn           name  retweet_count  \\\n",
       "0            positive          yes       kokombil              0   \n",
       "1            positive          yes  MisssTaraaa10              2   \n",
       "2            positive          yes  NMcCracken805              0   \n",
       "3            positive          yes         wxpnfm              1   \n",
       "4            positive          yes       Caesears              0   \n",
       "\n",
       "                                                text tweet_coord  \\\n",
       "0  #Coachella2015 tickets selling out in less tha...  [0.0, 0.0]   \n",
       "1  RT @sudsybuddy: WAIT THIS IS ABSOLUTE FIRE _ÙÓ...         NaN   \n",
       "2  #Coachella2015 #VIP passes secured! See you th...         NaN   \n",
       "3  PhillyÛªs @warondrugsjams will play #Coachell...         NaN   \n",
       "4  If briana and her mom out to #Coachella2015  i...         NaN   \n",
       "\n",
       "  tweet_created      tweet_id                  tweet_location user_timezone  \n",
       "0  1/7/15 15:02  5.529630e+17                             NaN         Quito  \n",
       "1  1/7/15 15:02  5.529630e+17                   united states           NaN  \n",
       "2  1/7/15 15:01  5.529630e+17                  Costa Mesa, CA           NaN  \n",
       "3  1/7/15 15:01  5.529630e+17  Philadelphia, PA and Worldwide         Quito  \n",
       "4  1/7/15 15:00  5.529630e+17                             NaN           NaN  "
      ]
     },
     "execution_count": 15,
     "metadata": {},
     "output_type": "execute_result"
    }
   ],
   "source": [
    "coachella.head()"
   ]
  },
  {
   "cell_type": "code",
   "execution_count": 16,
   "metadata": {},
   "outputs": [],
   "source": [
    "coachella = coachella[['coachella_sentiment','text']]"
   ]
  },
  {
   "cell_type": "code",
   "execution_count": 17,
   "metadata": {},
   "outputs": [],
   "source": [
    "coachella.columns = ['sentiment','tweet']"
   ]
  },
  {
   "cell_type": "code",
   "execution_count": 18,
   "metadata": {},
   "outputs": [],
   "source": [
    "coachella['Product'] = coachella['tweet'].str.lower().apply(lambda x: 'Apple' if 'ipad' in x\\\n",
    "                                                          or 'apple' in x or 'iphone' in x\\\n",
    "                                                          or 'itunes' in x or 'mac' in x\\\n",
    "                                                          or 'macbook' in x\\\n",
    "                                                          else 'Google' if 'google' in x\\\n",
    "                                                          else 'Android' if 'android' in x\\\n",
    "                                                          else 'Unknown')"
   ]
  },
  {
   "cell_type": "code",
   "execution_count": 19,
   "metadata": {},
   "outputs": [
    {
     "data": {
      "text/plain": [
       "Unknown    3790\n",
       "Apple        55\n",
       "Google        1\n",
       "Name: Product, dtype: int64"
      ]
     },
     "execution_count": 19,
     "metadata": {},
     "output_type": "execute_result"
    }
   ],
   "source": [
    "coachella['Product'].value_counts()"
   ]
  },
  {
   "cell_type": "code",
   "execution_count": null,
   "metadata": {},
   "outputs": [],
   "source": []
  }
 ],
 "metadata": {
  "kernelspec": {
   "display_name": "Python (learn-env)",
   "language": "python",
   "name": "learn-env"
  },
  "language_info": {
   "codemirror_mode": {
    "name": "ipython",
    "version": 3
   },
   "file_extension": ".py",
   "mimetype": "text/x-python",
   "name": "python",
   "nbconvert_exporter": "python",
   "pygments_lexer": "ipython3",
   "version": "3.8.5"
  }
 },
 "nbformat": 4,
 "nbformat_minor": 4
}
