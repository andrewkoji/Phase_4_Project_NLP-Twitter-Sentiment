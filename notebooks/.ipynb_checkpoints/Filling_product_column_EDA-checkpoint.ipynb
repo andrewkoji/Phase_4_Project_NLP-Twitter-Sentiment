{
 "cells": [
  {
   "cell_type": "code",
   "execution_count": 37,
   "metadata": {},
   "outputs": [],
   "source": [
    "import pandas as pd"
   ]
  },
  {
   "cell_type": "code",
   "execution_count": 38,
   "metadata": {},
   "outputs": [
    {
     "name": "stdout",
     "output_type": "stream",
     "text": [
      "utf-8 not successful\n",
      "latin-1 worked!\n"
     ]
    },
    {
     "data": {
      "text/html": [
       "<div>\n",
       "<style scoped>\n",
       "    .dataframe tbody tr th:only-of-type {\n",
       "        vertical-align: middle;\n",
       "    }\n",
       "\n",
       "    .dataframe tbody tr th {\n",
       "        vertical-align: top;\n",
       "    }\n",
       "\n",
       "    .dataframe thead th {\n",
       "        text-align: right;\n",
       "    }\n",
       "</style>\n",
       "<table border=\"1\" class=\"dataframe\">\n",
       "  <thead>\n",
       "    <tr style=\"text-align: right;\">\n",
       "      <th></th>\n",
       "      <th>tweet</th>\n",
       "      <th>product</th>\n",
       "      <th>sentiment</th>\n",
       "    </tr>\n",
       "  </thead>\n",
       "  <tbody>\n",
       "    <tr>\n",
       "      <th>0</th>\n",
       "      <td>.@wesley83 I have a 3G iPhone. After 3 hrs twe...</td>\n",
       "      <td>iPhone</td>\n",
       "      <td>Negative emotion</td>\n",
       "    </tr>\n",
       "    <tr>\n",
       "      <th>1</th>\n",
       "      <td>@jessedee Know about @fludapp ? Awesome iPad/i...</td>\n",
       "      <td>iPad or iPhone App</td>\n",
       "      <td>Positive emotion</td>\n",
       "    </tr>\n",
       "    <tr>\n",
       "      <th>2</th>\n",
       "      <td>@swonderlin Can not wait for #iPad 2 also. The...</td>\n",
       "      <td>iPad</td>\n",
       "      <td>Positive emotion</td>\n",
       "    </tr>\n",
       "    <tr>\n",
       "      <th>3</th>\n",
       "      <td>@sxsw I hope this year's festival isn't as cra...</td>\n",
       "      <td>iPad or iPhone App</td>\n",
       "      <td>Negative emotion</td>\n",
       "    </tr>\n",
       "    <tr>\n",
       "      <th>4</th>\n",
       "      <td>@sxtxstate great stuff on Fri #SXSW: Marissa M...</td>\n",
       "      <td>Google</td>\n",
       "      <td>Positive emotion</td>\n",
       "    </tr>\n",
       "  </tbody>\n",
       "</table>\n",
       "</div>"
      ],
      "text/plain": [
       "                                               tweet             product  \\\n",
       "0  .@wesley83 I have a 3G iPhone. After 3 hrs twe...              iPhone   \n",
       "1  @jessedee Know about @fludapp ? Awesome iPad/i...  iPad or iPhone App   \n",
       "2  @swonderlin Can not wait for #iPad 2 also. The...                iPad   \n",
       "3  @sxsw I hope this year's festival isn't as cra...  iPad or iPhone App   \n",
       "4  @sxtxstate great stuff on Fri #SXSW: Marissa M...              Google   \n",
       "\n",
       "          sentiment  \n",
       "0  Negative emotion  \n",
       "1  Positive emotion  \n",
       "2  Positive emotion  \n",
       "3  Negative emotion  \n",
       "4  Positive emotion  "
      ]
     },
     "execution_count": 38,
     "metadata": {},
     "output_type": "execute_result"
    }
   ],
   "source": [
    "# List of encodings to try\n",
    "encodings = ['utf-8', 'latin-1', 'utf-16']\n",
    "\n",
    "# Try different encodings until successful\n",
    "for encoding in encodings:\n",
    "    try:\n",
    "        tweet_df = pd.read_csv('judge-1377884607_tweet_product_company.csv', encoding=encoding)\n",
    "        print(f'{encoding} worked!')\n",
    "        break  # Exit the loop if reading is successful\n",
    "    except UnicodeDecodeError:\n",
    "        print(f'{encoding} not successful')\n",
    "        continue  # Continue to the next encoding if decoding error occurs\n",
    "        \n",
    "#rename columns\n",
    "tweet_df.columns = ['tweet','product','sentiment']\n",
    "# Display the DataFrame\n",
    "tweet_df.head()"
   ]
  },
  {
   "cell_type": "code",
   "execution_count": 39,
   "metadata": {},
   "outputs": [],
   "source": [
    "#renaming sentiment column values\n",
    "tweet_df['sentiment'] = tweet_df['sentiment'].str.lower().apply(lambda x: 'negative' if x=='negative emotion'\\\n",
    "                                                                           else 'positive' if x=='positive emotion'\\\n",
    "                                                                           else 'none' if x=='no emotion toward brand or product'or x==\"i can't tell\"\\\n",
    "                                                                           else x)\n",
    "#renaming product values\n",
    "tweet_df['product'] = tweet_df['product'].str.lower().apply(lambda x: 'Apple' if x=='iphone' or x=='ipad or iphone app' or x=='other apple product or service' or x=='ipad' or x=='apple'\\\n",
    "                                                                           else 'Android' if x=='android app' or x=='android'\\\n",
    "                                                                           else 'Google' if x=='google'or x==\"other google product or service\"\\\n",
    "                                                                           else x)\n",
    "#filling nulls of missing values\n",
    "tweet_df['product'].fillna('Product Unknown', inplace = True)\n",
    "tweet_df.dropna(inplace = True)"
   ]
  },
  {
   "cell_type": "code",
   "execution_count": 45,
   "metadata": {},
   "outputs": [
    {
     "name": "stdout",
     "output_type": "stream",
     "text": [
      "Find &amp; Start Impromptu Parties at #SXSW With @HurricaneParty http://bit.ly/gVLrIn I can't wait til the Android app comes out.\n"
     ]
    }
   ],
   "source": [
    "print(tweet_df['tweet'].iloc[10])"
   ]
  },
  {
   "cell_type": "code",
   "execution_count": 40,
   "metadata": {},
   "outputs": [
    {
     "data": {
      "text/plain": [
       "Product Unknown    5801\n",
       "Apple              2409\n",
       "Google              723\n",
       "Android             159\n",
       "Name: product, dtype: int64"
      ]
     },
     "execution_count": 40,
     "metadata": {},
     "output_type": "execute_result"
    }
   ],
   "source": [
    "tweet_df['product'].value_counts()"
   ]
  },
  {
   "cell_type": "code",
   "execution_count": 59,
   "metadata": {
    "scrolled": true
   },
   "outputs": [],
   "source": [
    "tweet_df['Product'] = tweet_df['tweet'].str.lower().apply(lambda x: 'Apple' if 'ipad' in x or 'apple' in x or 'iphone' in x or 'itunes' in x\\\n",
    "                                              else 'Google' if 'google' in x\\\n",
    "                                             else 'Android' if 'android' in x\\\n",
    "                                             else 'Unknown')"
   ]
  },
  {
   "cell_type": "code",
   "execution_count": 60,
   "metadata": {},
   "outputs": [
    {
     "data": {
      "text/plain": [
       "Apple      5592\n",
       "Google     2432\n",
       "Unknown     722\n",
       "Android     346\n",
       "Name: Product, dtype: int64"
      ]
     },
     "execution_count": 60,
     "metadata": {},
     "output_type": "execute_result"
    }
   ],
   "source": [
    "tweet_df['Product'].value_counts()"
   ]
  },
  {
   "cell_type": "code",
   "execution_count": 61,
   "metadata": {},
   "outputs": [
    {
     "data": {
      "text/html": [
       "<div>\n",
       "<style scoped>\n",
       "    .dataframe tbody tr th:only-of-type {\n",
       "        vertical-align: middle;\n",
       "    }\n",
       "\n",
       "    .dataframe tbody tr th {\n",
       "        vertical-align: top;\n",
       "    }\n",
       "\n",
       "    .dataframe thead th {\n",
       "        text-align: right;\n",
       "    }\n",
       "</style>\n",
       "<table border=\"1\" class=\"dataframe\">\n",
       "  <thead>\n",
       "    <tr style=\"text-align: right;\">\n",
       "      <th></th>\n",
       "      <th>tweet</th>\n",
       "      <th>product</th>\n",
       "      <th>sentiment</th>\n",
       "      <th>Product</th>\n",
       "    </tr>\n",
       "  </thead>\n",
       "  <tbody>\n",
       "    <tr>\n",
       "      <th>51</th>\n",
       "      <td>ÛÏ@mention {link} &amp;lt;-- HELP ME FORWARD THIS...</td>\n",
       "      <td>Product Unknown</td>\n",
       "      <td>none</td>\n",
       "      <td>Unknown</td>\n",
       "    </tr>\n",
       "    <tr>\n",
       "      <th>52</th>\n",
       "      <td>÷¼ WHAT? ÷_ {link} ã_ #edchat #musedchat #s...</td>\n",
       "      <td>Product Unknown</td>\n",
       "      <td>none</td>\n",
       "      <td>Unknown</td>\n",
       "    </tr>\n",
       "    <tr>\n",
       "      <th>53</th>\n",
       "      <td>.@mention @mention on the location-based 'fast...</td>\n",
       "      <td>Product Unknown</td>\n",
       "      <td>none</td>\n",
       "      <td>Unknown</td>\n",
       "    </tr>\n",
       "    <tr>\n",
       "      <th>66</th>\n",
       "      <td>At #sxsw? @mention / @mention wanna buy you a ...</td>\n",
       "      <td>Product Unknown</td>\n",
       "      <td>none</td>\n",
       "      <td>Unknown</td>\n",
       "    </tr>\n",
       "    <tr>\n",
       "      <th>71</th>\n",
       "      <td>Chilcott: @mention #SXSW stand talking with Bl...</td>\n",
       "      <td>Product Unknown</td>\n",
       "      <td>none</td>\n",
       "      <td>Unknown</td>\n",
       "    </tr>\n",
       "    <tr>\n",
       "      <th>...</th>\n",
       "      <td>...</td>\n",
       "      <td>...</td>\n",
       "      <td>...</td>\n",
       "      <td>...</td>\n",
       "    </tr>\n",
       "    <tr>\n",
       "      <th>8932</th>\n",
       "      <td>Z6: No News is Good News {link} [codes valid: ...</td>\n",
       "      <td>Product Unknown</td>\n",
       "      <td>none</td>\n",
       "      <td>Unknown</td>\n",
       "    </tr>\n",
       "    <tr>\n",
       "      <th>8936</th>\n",
       "      <td>CLIENT NEWS! @mention Releases &amp;quot;Dope Melo...</td>\n",
       "      <td>Product Unknown</td>\n",
       "      <td>none</td>\n",
       "      <td>Unknown</td>\n",
       "    </tr>\n",
       "    <tr>\n",
       "      <th>8970</th>\n",
       "      <td>This is my 5th year downloading the #sxsw Musi...</td>\n",
       "      <td>Product Unknown</td>\n",
       "      <td>none</td>\n",
       "      <td>Unknown</td>\n",
       "    </tr>\n",
       "    <tr>\n",
       "      <th>9024</th>\n",
       "      <td>by the way, we're looking for a spanish-speaki...</td>\n",
       "      <td>Product Unknown</td>\n",
       "      <td>none</td>\n",
       "      <td>Unknown</td>\n",
       "    </tr>\n",
       "    <tr>\n",
       "      <th>9026</th>\n",
       "      <td>True story! RT @mention I just rated Amy's Ice...</td>\n",
       "      <td>Product Unknown</td>\n",
       "      <td>none</td>\n",
       "      <td>Unknown</td>\n",
       "    </tr>\n",
       "  </tbody>\n",
       "</table>\n",
       "<p>722 rows × 4 columns</p>\n",
       "</div>"
      ],
      "text/plain": [
       "                                                  tweet          product  \\\n",
       "51    ÛÏ@mention {link} &lt;-- HELP ME FORWARD THIS...  Product Unknown   \n",
       "52    ÷¼ WHAT? ÷_ {link} ã_ #edchat #musedchat #s...  Product Unknown   \n",
       "53    .@mention @mention on the location-based 'fast...  Product Unknown   \n",
       "66    At #sxsw? @mention / @mention wanna buy you a ...  Product Unknown   \n",
       "71    Chilcott: @mention #SXSW stand talking with Bl...  Product Unknown   \n",
       "...                                                 ...              ...   \n",
       "8932  Z6: No News is Good News {link} [codes valid: ...  Product Unknown   \n",
       "8936  CLIENT NEWS! @mention Releases &quot;Dope Melo...  Product Unknown   \n",
       "8970  This is my 5th year downloading the #sxsw Musi...  Product Unknown   \n",
       "9024  by the way, we're looking for a spanish-speaki...  Product Unknown   \n",
       "9026  True story! RT @mention I just rated Amy's Ice...  Product Unknown   \n",
       "\n",
       "     sentiment  Product  \n",
       "51        none  Unknown  \n",
       "52        none  Unknown  \n",
       "53        none  Unknown  \n",
       "66        none  Unknown  \n",
       "71        none  Unknown  \n",
       "...        ...      ...  \n",
       "8932      none  Unknown  \n",
       "8936      none  Unknown  \n",
       "8970      none  Unknown  \n",
       "9024      none  Unknown  \n",
       "9026      none  Unknown  \n",
       "\n",
       "[722 rows x 4 columns]"
      ]
     },
     "execution_count": 61,
     "metadata": {},
     "output_type": "execute_result"
    }
   ],
   "source": [
    "tweet_df[tweet_df['Product'] == 'Unknown']"
   ]
  },
  {
   "cell_type": "code",
   "execution_count": null,
   "metadata": {},
   "outputs": [],
   "source": []
  }
 ],
 "metadata": {
  "kernelspec": {
   "display_name": "Python (learn-env)",
   "language": "python",
   "name": "learn-env"
  },
  "language_info": {
   "codemirror_mode": {
    "name": "ipython",
    "version": 3
   },
   "file_extension": ".py",
   "mimetype": "text/x-python",
   "name": "python",
   "nbconvert_exporter": "python",
   "pygments_lexer": "ipython3",
   "version": "3.8.5"
  }
 },
 "nbformat": 4,
 "nbformat_minor": 4
}
